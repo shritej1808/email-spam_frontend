{
 "cells": [
  {
   "cell_type": "code",
   "execution_count": 2,
   "id": "8138b98d-a628-4ed3-b7d6-68e35646f86d",
   "metadata": {},
   "outputs": [],
   "source": [
    "import pandas as pd\n",
    "from sklearn.feature_extraction.text import CountVectorizer\n",
    "from sklearn.model_selection import train_test_split\n",
    "from sklearn.svm import SVC\n",
    "from sklearn.metrics import classification_report\n",
    "import pickle\n"
   ]
  },
  {
   "cell_type": "code",
   "execution_count": 2,
   "id": "034b83f8-929f-4c31-bb0b-208e230f5711",
   "metadata": {},
   "outputs": [
    {
     "name": "stdout",
     "output_type": "stream",
     "text": [
      "   label                                            message\n",
      "0      0                              Go until jurong point\n",
      "1      0                     Ok lar... Joking wif u oni...'\n",
      "2      1  Free entry in 2 a wkly comp to win FA Cup fina...\n",
      "3      0  U dun say so early hor... U c already then say...\n",
      "4      0                   Nah I don't think he goes to usf\n"
     ]
    }
   ],
   "source": [
    "import pandas as pd\n",
    "\n",
    "# Load the dataset\n",
    "data = pd.read_csv('train.csv')  # Replace 'train.csv' with the actual file name if needed\n",
    "\n",
    "# Clean column names (strip any unwanted spaces or quotes)\n",
    "data.columns = data.columns.str.strip().str.replace(\"'\", \"\")\n",
    "\n",
    "# Select relevant columns: 'type' for labels and 'text' for message content\n",
    "data = data[['type', 'text']]  # Select the correct columns\n",
    "\n",
    "# Rename columns for consistency\n",
    "data.columns = ['label', 'message']  # Rename 'type' to 'label' and 'text' to 'message'\n",
    "\n",
    "# Encode the labels (e.g., ham = 0, spam = 1)\n",
    "data['label'] = data['label'].map({'ham': 0, 'spam': 1})\n",
    "\n",
    "# Display the first few rows to confirm preprocessing\n",
    "print(data.head())\n"
   ]
  },
  {
   "cell_type": "code",
   "execution_count": 16,
   "id": "afbc3709-853e-479b-bad1-468d6a066ced",
   "metadata": {},
   "outputs": [
    {
     "name": "stdout",
     "output_type": "stream",
     "text": [
      "   label                                            message\n",
      "0      0                                    go jurong point\n",
      "1      0                            ok lar joking wif u oni\n",
      "2      1  free entry wkly comp win fa cup final tkts st ...\n",
      "3      0                u dun say early hor u c already say\n",
      "4      0                            nah dont think goes usf\n"
     ]
    },
    {
     "name": "stderr",
     "output_type": "stream",
     "text": [
      "[nltk_data] Downloading package punkt to\n",
      "[nltk_data]     C:\\Users\\spoor\\AppData\\Roaming\\nltk_data...\n",
      "[nltk_data]   Package punkt is already up-to-date!\n",
      "[nltk_data] Downloading package stopwords to\n",
      "[nltk_data]     C:\\Users\\spoor\\AppData\\Roaming\\nltk_data...\n",
      "[nltk_data]   Package stopwords is already up-to-date!\n"
     ]
    }
   ],
   "source": [
    "import re\n",
    "from nltk.corpus import stopwords\n",
    "from nltk.tokenize import word_tokenize\n",
    "\n",
    "# Download necessary NLTK resources (run once)\n",
    "import nltk\n",
    "nltk.download('punkt')\n",
    "nltk.download('stopwords')\n",
    "\n",
    "# Preprocess the text\n",
    "def preprocess_text(text):\n",
    "    # Convert to string, in case there are any non-string values (like NaN, float, etc.)\n",
    "    text = str(text)\n",
    "    \n",
    "    # Convert text to lowercase\n",
    "    text = text.lower()\n",
    "    \n",
    "    # Remove special characters and numbers\n",
    "    text = re.sub(r'[^a-zA-Z\\s]', '', text)\n",
    "    \n",
    "    # Tokenize the text\n",
    "    tokens = word_tokenize(text)\n",
    "    \n",
    "    # Remove stopwords\n",
    "    stop_words = set(stopwords.words('english'))\n",
    "    tokens = [word for word in tokens if word not in stop_words]\n",
    "    \n",
    "    return ' '.join(tokens)\n",
    "\n",
    "# Apply preprocessing to the 'message' column\n",
    "data['message'] = data['message'].apply(preprocess_text)\n",
    "print(data.head())\n"
   ]
  },
  {
   "cell_type": "code",
   "execution_count": 8,
   "id": "6c59dbe5-cc57-447c-be2a-c21a7974037f",
   "metadata": {},
   "outputs": [],
   "source": [
    "# import pandas as pd\n",
    "\n",
    "# # Load the dataset\n",
    "# data = pd.read_csv('train.csv')  # Replace with your actual file name\n",
    "\n",
    "# # Print the first few rows and column names\n",
    "# print(data.head())\n",
    "# print(data.columns)\n"
   ]
  },
  {
   "cell_type": "code",
   "execution_count": 9,
   "id": "1e5861eb-d761-40d4-a9b5-9f5385b8b7c5",
   "metadata": {},
   "outputs": [],
   "source": [
    "# import nltk\n",
    "\n",
    "# # Download necessary resources for tokenization and stopwords\n",
    "# nltk.download('punkt')\n",
    "# nltk.download('stopwords')\n"
   ]
  },
  {
   "cell_type": "code",
   "execution_count": 10,
   "id": "db43f8be-02fe-4f54-83af-59156febed9b",
   "metadata": {},
   "outputs": [
    {
     "name": "stderr",
     "output_type": "stream",
     "text": [
      "[nltk_data] Downloading package punkt_tab to\n",
      "[nltk_data]     C:\\Users\\spoor\\AppData\\Roaming\\nltk_data...\n",
      "[nltk_data]   Package punkt_tab is already up-to-date!\n"
     ]
    },
    {
     "data": {
      "text/plain": [
       "True"
      ]
     },
     "execution_count": 10,
     "metadata": {},
     "output_type": "execute_result"
    }
   ],
   "source": [
    "import nltk\n",
    "nltk.download('punkt_tab')"
   ]
  },
  {
   "cell_type": "code",
   "execution_count": 11,
   "id": "749352ac-e24b-497b-9d27-bf92ee86cf9d",
   "metadata": {},
   "outputs": [],
   "source": [
    "# from sklearn.feature_extraction.text import TfidfVectorizer\n",
    "# from sklearn.svm import SVC\n",
    "# from sklearn.metrics import accuracy_score\n",
    "# import joblib\n",
    "\n",
    "# # Vectorize the text data\n",
    "# tfidf_vectorizer = TfidfVectorizer(max_features=3000)\n",
    "# X = tfidf_vectorizer.fit_transform(data['message']).toarray()\n",
    "# y = data['label']\n",
    "\n",
    "# # Split into train and test sets\n",
    "# X_train, X_test, y_train, y_test = train_test_split(X, y, test_size=0.2, random_state=42)\n",
    "\n",
    "# # Train the SVM model\n",
    "# svm_model = SVC(kernel='linear', probability=True)\n",
    "# svm_model.fit(X_train, y_train)\n",
    "\n",
    "# # Evaluate the model\n",
    "# y_pred = svm_model.predict(X_test)\n",
    "# print(\"Model Accuracy:\", accuracy_score(y_test, y_pred))\n",
    "\n",
    "# # Save the trained model and TF-IDF vectorizer\n",
    "# joblib.dump(svm_model, 'spam_classifier_model.pkl')\n",
    "# joblib.dump(tfidf_vectorizer, 'tfidf_vectorizer.pkl')\n",
    "# print(\"Model and vectorizer saved successfully!\")\n"
   ]
  },
  {
   "cell_type": "code",
   "execution_count": 12,
   "id": "94252fe0-250d-40b2-bea1-fff189dccc83",
   "metadata": {},
   "outputs": [],
   "source": [
    "# # Remove rows with missing values in 'message' column\n",
    "# data = data.dropna(subset=['message'])\n",
    "\n",
    "# # Check if there are any null values remaining (optional sanity check)\n",
    "# print(data.isnull().sum())\n"
   ]
  },
  {
   "cell_type": "code",
   "execution_count": 13,
   "id": "acc825d0-a1e7-4554-9460-e17b926e3b03",
   "metadata": {},
   "outputs": [],
   "source": [
    "# # Replace NaN values in 'message' column with a placeholder\n",
    "# data['message'] = data['message'].fillna(\"empty message\")\n"
   ]
  },
  {
   "cell_type": "code",
   "execution_count": 14,
   "id": "c0731af6-6272-4056-b7fc-f033d994c51a",
   "metadata": {},
   "outputs": [],
   "source": [
    "# Apply text preprocessing\n",
    "# data['message'] = data['message'].apply(preprocess_text)\n",
    "\n",
    "# # Vectorize text using TF-IDF\n",
    "# tfidf_vectorizer = TfidfVectorizer(max_features=3000)\n",
    "# X = tfidf_vectorizer.fit_transform(data['message']).toarray()\n",
    "# y = data['label']\n"
   ]
  },
  {
   "cell_type": "code",
   "execution_count": 2,
   "id": "68480c40-7f9d-4fb5-aa29-82cd4cb4a482",
   "metadata": {},
   "outputs": [],
   "source": [
    "# import pandas as pd\n",
    "# import numpy as np\n",
    "# from sklearn.feature_extraction.text import TfidfVectorizer\n",
    "# from sklearn.model_selection import train_test_split\n",
    "# from sklearn.svm import SVC\n",
    "# from sklearn.metrics import classification_report\n",
    "# import joblib  # For saving the model\n",
    "# import nltk\n",
    "# import re\n",
    "# from nltk.corpus import stopwords\n",
    "# from nltk.tokenize import word_tokenize\n",
    "\n",
    "# # Download necessary NLTK resources (run once)\n",
    "# nltk.download('punkt')\n",
    "# nltk.download('stopwords')\n",
    "\n",
    "# # Load the dataset\n",
    "# data = pd.read_csv('train.csv')  # Replace 'train.csv' with your actual dataset file name\n",
    "\n",
    "# # Clean column names (strip any unwanted spaces or quotes)\n",
    "# data.columns = data.columns.str.strip().str.replace(\"'\", \"\")\n",
    "\n",
    "# # Select relevant columns: 'type' for labels and 'text' for message content\n",
    "# data = data[['type', 'text']]  # Select the correct columns\n",
    "\n",
    "# # Rename columns for consistency\n",
    "# data.columns = ['label', 'message']  # Rename 'type' to 'label' and 'text' to 'message'\n",
    "\n",
    "# # Encode the labels (e.g., ham = 0, spam = 1)\n",
    "# data['label'] = data['label'].map({'ham': 0, 'spam': 1})\n",
    "\n",
    "# # Handle missing data\n",
    "# data = data.dropna(subset=['message'])  # Remove rows with missing values in 'message'\n",
    "# data['message'] = data['message'].fillna(\"empty message\")  # Replace NaN with a placeholder\n",
    "\n",
    "# # Preprocess the text\n",
    "# def preprocess_text(text):\n",
    "#     # Convert to string, in case there are any non-string values\n",
    "#     text = str(text)\n",
    "    \n",
    "#     # Convert text to lowercase\n",
    "#     text = text.lower()\n",
    "    \n",
    "#     # Remove special characters and numbers\n",
    "#     text = re.sub(r'[^a-zA-Z\\s]', '', text)\n",
    "    \n",
    "#     # Tokenize the text\n",
    "#     tokens = word_tokenize(text)\n",
    "    \n",
    "#     # Remove stopwords\n",
    "#     stop_words = set(stopwords.words('english'))\n",
    "#     tokens = [word for word in tokens if word not in stop_words]\n",
    "    \n",
    "#     return ' '.join(tokens)\n",
    "\n",
    "# # Apply preprocessing to the 'message' column\n",
    "# data['message'] = data['message'].apply(preprocess_text)\n",
    "\n",
    "# # Vectorize text using TF-IDF\n",
    "# tfidf_vectorizer = TfidfVectorizer(max_features=3000)  # Use up to 3000 most frequent words\n",
    "# X = tfidf_vectorizer.fit_transform(data['message']).toarray()  # Features\n",
    "# y = data['label']  # Labels\n",
    "\n",
    "# # Split data into training and testing sets\n",
    "# X_train, X_test, y_train, y_test = train_test_split(X, y, test_size=0.2, random_state=42)\n",
    "\n",
    "# # Train the SVM model\n",
    "# svm_model = SVC(kernel='linear')  # Linear kernel for SVM\n",
    "# svm_model.fit(X_train, y_train)\n",
    "\n",
    "# # Evaluate the model\n",
    "# y_pred = svm_model.predict(X_test)\n",
    "# print(\"Classification Report:\")\n",
    "# print(classification_report(y_test, y_pred))\n",
    "\n",
    "# # Save the trained model and TF-IDF vectorizer\n",
    "# joblib.dump(svm_model, 'spam_classifier_model.pkl')  # Save the SVM model\n",
    "# joblib.dump(tfidf_vectorizer, 'tfidf_vectorizer.pkl')  # Save the TF-IDF vectorizer\n",
    "\n",
    "# print(\"Model and vectorizer saved successfully!\")\n"
   ]
  },
  {
   "cell_type": "code",
   "execution_count": 1,
   "id": "83dcb9c7-ac05-4650-8922-1c0a563d8ed9",
   "metadata": {},
   "outputs": [
    {
     "name": "stderr",
     "output_type": "stream",
     "text": [
      "[nltk_data] Downloading package punkt to\n",
      "[nltk_data]     C:\\Users\\spoor\\AppData\\Roaming\\nltk_data...\n",
      "[nltk_data]   Package punkt is already up-to-date!\n",
      "[nltk_data] Downloading package stopwords to\n",
      "[nltk_data]     C:\\Users\\spoor\\AppData\\Roaming\\nltk_data...\n",
      "[nltk_data]   Package stopwords is already up-to-date!\n"
     ]
    },
    {
     "name": "stdout",
     "output_type": "stream",
     "text": [
      "Classification Report:\n",
      "              precision    recall  f1-score   support\n",
      "\n",
      "           0       0.93      0.98      0.95        54\n",
      "           1       0.80      0.50      0.62         8\n",
      "\n",
      "    accuracy                           0.92        62\n",
      "   macro avg       0.86      0.74      0.79        62\n",
      "weighted avg       0.91      0.92      0.91        62\n",
      "\n",
      "Model and vectorizer saved successfully!\n"
     ]
    }
   ],
   "source": [
    "import pandas as pd\n",
    "import numpy as np\n",
    "from sklearn.feature_extraction.text import TfidfVectorizer\n",
    "from sklearn.model_selection import train_test_split\n",
    "from sklearn.svm import SVC\n",
    "from sklearn.metrics import classification_report\n",
    "import joblib  # For saving the model\n",
    "import nltk\n",
    "import re\n",
    "from nltk.corpus import stopwords\n",
    "from nltk.tokenize import word_tokenize\n",
    "\n",
    "# Download necessary NLTK resources (run once)\n",
    "nltk.download('punkt')\n",
    "nltk.download('stopwords')\n",
    "\n",
    "# Load the dataset\n",
    "data = pd.read_csv('train.csv')  # Replace 'train.csv' withactual dataset file name\n",
    "\n",
    "# Clean column names (strip any unwanted spaces or quotes)\n",
    "data.columns = data.columns.str.strip().str.replace(\"'\", \"\")\n",
    "\n",
    "# Select relevant columns: 'type' for labels and 'text' for message content\n",
    "data = data[['type', 'text']]  # Select the correct columns\n",
    "\n",
    "# Rename columns for consistency\n",
    "data.columns = ['label', 'message']  # Rename 'type' to 'label' and 'text' to 'message'\n",
    "\n",
    "# Encode the labels (e.g., ham = 0, spam = 1)\n",
    "data['label'] = data['label'].map({'ham': 0, 'spam': 1})\n",
    "\n",
    "# Handle missing data\n",
    "data = data.dropna(subset=['message'])  # Remove rows with missing values in 'message'\n",
    "data['message'] = data['message'].fillna(\"empty message\")  # Replace NaN with a placeholder\n",
    "\n",
    "# Preprocess the text\n",
    "def preprocess_text(text):\n",
    "    # Convert to string, in case there are any non-string values\n",
    "    text = str(text)\n",
    "    \n",
    "    # Convert text to lowercase\n",
    "    text = text.lower()\n",
    "    \n",
    "    # Remove special characters and numbers\n",
    "    text = re.sub(r'[^a-zA-Z\\s]', '', text)\n",
    "    \n",
    "    # Tokenize the text\n",
    "    tokens = word_tokenize(text)\n",
    "    \n",
    "    # Remove stopwords\n",
    "    stop_words = set(stopwords.words('english'))\n",
    "    tokens = [word for word in tokens if word not in stop_words]\n",
    "    \n",
    "    return ' '.join(tokens)\n",
    "\n",
    "# Apply preprocessing to the 'message' column\n",
    "data['message'] = data['message'].apply(preprocess_text)\n",
    "\n",
    "# Vectorize text using TF-IDF\n",
    "tfidf_vectorizer = TfidfVectorizer(max_features=3000)  # Use up to 3000 most frequent words\n",
    "X = tfidf_vectorizer.fit_transform(data['message']).toarray()  # Features\n",
    "y = data['label']  # Labels\n",
    "\n",
    "# Split data into training and testing sets\n",
    "X_train, X_test, y_train, y_test = train_test_split(X, y, test_size=0.2, random_state=42)\n",
    "\n",
    "# Train the SVM model\n",
    "svm_model = SVC(kernel='linear')  # Linear kernel for SVM\n",
    "svm_model.fit(X_train, y_train)\n",
    "\n",
    "# Evaluate the model\n",
    "y_pred = svm_model.predict(X_test)\n",
    "print(\"Classification Report:\")\n",
    "print(classification_report(y_test, y_pred))\n",
    "\n",
    "# Save the trained model and TF-IDF vectorizer\n",
    "joblib.dump(svm_model, 'spam_classifier_model.pkl')  # Save the SVM model\n",
    "joblib.dump(tfidf_vectorizer, 'tfidf_vectorizer.pkl')  # Save the TF-IDF vectorizer\n",
    "\n",
    "print(\"Model and vectorizer saved successfully!\")\n"
   ]
  },
  {
   "cell_type": "code",
   "execution_count": 1,
   "id": "72a2ac6b-75e6-4f9e-aadc-de35b1685e42",
   "metadata": {},
   "outputs": [
    {
     "name": "stdout",
     "output_type": "stream",
     "text": [
      "Prediction: Spam\n"
     ]
    }
   ],
   "source": [
    "import joblib\n",
    "\n",
    "# Load the trained SVM model and the TF-IDF vectorizer\n",
    "svm_model = joblib.load('spam_classifier_model.pkl')\n",
    "vectorizer = joblib.load('tfidf_vectorizer.pkl')\n",
    "\n",
    "# Sample email to classify\n",
    "sample_email = \"Urgernt,you have won a one week free membership!\"\n",
    "\n",
    "# Transform the sample email using the loaded vectorizer\n",
    "X_test_sparse = vectorizer.transform([sample_email])\n",
    "\n",
    "# Convert sparse matrix to dense format\n",
    "X_test_dense = X_test_sparse.toarray()\n",
    "\n",
    "# Predict using the SVM model\n",
    "prediction = svm_model.predict(X_test_dense)\n",
    "\n",
    "# Output the classification result\n",
    "print(\"Prediction:\", \"Spam\" if prediction[0] == 1 else \"Ham\")\n"
   ]
  },
  {
   "cell_type": "code",
   "execution_count": null,
   "id": "43422aec-9299-4312-88ec-e27c311de91b",
   "metadata": {},
   "outputs": [],
   "source": []
  }
 ],
 "metadata": {
  "kernelspec": {
   "display_name": "Python 3 (ipykernel)",
   "language": "python",
   "name": "python3"
  },
  "language_info": {
   "codemirror_mode": {
    "name": "ipython",
    "version": 3
   },
   "file_extension": ".py",
   "mimetype": "text/x-python",
   "name": "python",
   "nbconvert_exporter": "python",
   "pygments_lexer": "ipython3",
   "version": "3.12.6"
  }
 },
 "nbformat": 4,
 "nbformat_minor": 5
}
